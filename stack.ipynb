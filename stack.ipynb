{
 "cells": [
  {
   "cell_type": "code",
   "execution_count": 1,
   "id": "467574a9-698b-4a06-aa6d-c77f55ebd156",
   "metadata": {},
   "outputs": [],
   "source": [
    "l =[]\n",
    "l.append('a')\n",
    "l.append('b')\n",
    "l.append('c')"
   ]
  },
  {
   "cell_type": "code",
   "execution_count": 2,
   "id": "abc0b5d3-f31a-41a0-b184-137910c3690f",
   "metadata": {},
   "outputs": [
    {
     "data": {
      "text/plain": [
       "['a', 'b', 'c']"
      ]
     },
     "execution_count": 2,
     "metadata": {},
     "output_type": "execute_result"
    }
   ],
   "source": [
    "l"
   ]
  },
  {
   "cell_type": "code",
   "execution_count": 3,
   "id": "55a18abb-8b66-4449-8093-51ed7e787bbd",
   "metadata": {},
   "outputs": [
    {
     "data": {
      "text/plain": [
       "'c'"
      ]
     },
     "execution_count": 3,
     "metadata": {},
     "output_type": "execute_result"
    }
   ],
   "source": [
    "l.pop()"
   ]
  },
  {
   "cell_type": "code",
   "execution_count": 4,
   "id": "234b22eb-7b60-46c1-a7e5-520b8a1c8c82",
   "metadata": {},
   "outputs": [],
   "source": [
    "from collections import deque\n",
    "stack = deque()"
   ]
  },
  {
   "cell_type": "code",
   "execution_count": 5,
   "id": "30f9505a-4435-41cf-a190-3479b9b2bb8e",
   "metadata": {},
   "outputs": [
    {
     "data": {
      "text/plain": [
       "['__add__',\n",
       " '__class__',\n",
       " '__class_getitem__',\n",
       " '__contains__',\n",
       " '__copy__',\n",
       " '__delattr__',\n",
       " '__delitem__',\n",
       " '__dir__',\n",
       " '__doc__',\n",
       " '__eq__',\n",
       " '__format__',\n",
       " '__ge__',\n",
       " '__getattribute__',\n",
       " '__getitem__',\n",
       " '__getstate__',\n",
       " '__gt__',\n",
       " '__hash__',\n",
       " '__iadd__',\n",
       " '__imul__',\n",
       " '__init__',\n",
       " '__init_subclass__',\n",
       " '__iter__',\n",
       " '__le__',\n",
       " '__len__',\n",
       " '__lt__',\n",
       " '__module__',\n",
       " '__mul__',\n",
       " '__ne__',\n",
       " '__new__',\n",
       " '__reduce__',\n",
       " '__reduce_ex__',\n",
       " '__repr__',\n",
       " '__reversed__',\n",
       " '__rmul__',\n",
       " '__setattr__',\n",
       " '__setitem__',\n",
       " '__sizeof__',\n",
       " '__str__',\n",
       " '__subclasshook__',\n",
       " 'append',\n",
       " 'appendleft',\n",
       " 'clear',\n",
       " 'copy',\n",
       " 'count',\n",
       " 'extend',\n",
       " 'extendleft',\n",
       " 'index',\n",
       " 'insert',\n",
       " 'maxlen',\n",
       " 'pop',\n",
       " 'popleft',\n",
       " 'remove',\n",
       " 'reverse',\n",
       " 'rotate']"
      ]
     },
     "execution_count": 5,
     "metadata": {},
     "output_type": "execute_result"
    }
   ],
   "source": [
    "dir(stack)"
   ]
  },
  {
   "cell_type": "code",
   "execution_count": 6,
   "id": "52796524-0491-4e56-8e06-8f4d2f07fb0c",
   "metadata": {},
   "outputs": [],
   "source": [
    "stack.append('a')"
   ]
  },
  {
   "cell_type": "code",
   "execution_count": 8,
   "id": "fc5a6b9e-0bdf-43d4-bf29-da3ca394440f",
   "metadata": {},
   "outputs": [],
   "source": [
    "stack.append('b')\n",
    "stack.append('c')\n"
   ]
  },
  {
   "cell_type": "code",
   "execution_count": 13,
   "id": "f4dd5a6d-087e-4015-8176-e8b692873ce3",
   "metadata": {},
   "outputs": [],
   "source": [
    "class stack:\n",
    "    def __init__(self):\n",
    "        self.container = deque()\n",
    "    def push(self,val):\n",
    "        self.container.append(val)\n",
    "    def pop(self):\n",
    "        return self.container.pop(val)\n",
    "    def peek(self):\n",
    "        return self.container[-1]\n",
    "    def is_empty(self):\n",
    "        return len(self.container) ==0\n",
    "    def size(self):\n",
    "        return len(self.container)\n",
    "    def reverse_string(self,val):\n",
    "        return val[::-1]\n",
    "    def is_match(ch1,ch2):\n",
    "        match_dict = {\n",
    "            ')':'(',\n",
    "            '}':'{',\n",
    "            ']':'['}\n",
    "        return match_dict[ch1] == ch2\n",
    "        \n",
    "    def is_balanced(val):\n",
    "        stack = stack()\n",
    "        for ch in val:\n",
    "            if ch=='(' or ch == '{' or ch == '[':\n",
    "                stack.push(ch)\n",
    "            if ch ==')' or ch =='}' or ch == ']':\n",
    "                if stack.size() == 0:\n",
    "                    return False\n",
    "                if not is_match(ch,stack.pop()):\n",
    "                    return False\n",
    "        return stack.size() == 0"
   ]
  },
  {
   "cell_type": "code",
   "execution_count": 10,
   "id": "83c07553-b206-42a5-8756-c8eedf9ec9d8",
   "metadata": {},
   "outputs": [],
   "source": [
    "t = stack()"
   ]
  },
  {
   "cell_type": "code",
   "execution_count": 11,
   "id": "1073e697-85c8-4b08-85ae-d19fec6867aa",
   "metadata": {},
   "outputs": [
    {
     "data": {
      "text/plain": [
       "'narahc'"
      ]
     },
     "execution_count": 11,
     "metadata": {},
     "output_type": "execute_result"
    }
   ],
   "source": [
    "t.reverse_string('charan')"
   ]
  },
  {
   "cell_type": "code",
   "execution_count": 1,
   "id": "44887dd7-ba9d-48b9-8686-708e4b9ed6c0",
   "metadata": {},
   "outputs": [],
   "source": [
    "#queue"
   ]
  },
  {
   "cell_type": "code",
   "execution_count": 2,
   "id": "fb4d8202-3644-438c-81d7-b92aea95fff1",
   "metadata": {},
   "outputs": [],
   "source": [
    "wmt_queue= []"
   ]
  },
  {
   "cell_type": "code",
   "execution_count": 3,
   "id": "ea37c39e-8d0f-4e7c-a85b-b8e0e22ef8ed",
   "metadata": {},
   "outputs": [],
   "source": [
    "wmt_queue.insert(0,131)\n",
    "wmt_queue.insert(0,132)\n",
    "wmt_queue.insert(0,133)"
   ]
  },
  {
   "cell_type": "code",
   "execution_count": 4,
   "id": "bb31ef15-e3fd-4ecc-86af-d7490f757035",
   "metadata": {},
   "outputs": [
    {
     "data": {
      "text/plain": [
       "[133, 132, 131]"
      ]
     },
     "execution_count": 4,
     "metadata": {},
     "output_type": "execute_result"
    }
   ],
   "source": [
    "wmt_queue"
   ]
  },
  {
   "cell_type": "code",
   "execution_count": 5,
   "id": "8922bbdf-20ee-4571-87c3-d216f9bc644e",
   "metadata": {},
   "outputs": [
    {
     "data": {
      "text/plain": [
       "131"
      ]
     },
     "execution_count": 5,
     "metadata": {},
     "output_type": "execute_result"
    }
   ],
   "source": [
    "wmt_queue.pop()"
   ]
  },
  {
   "cell_type": "code",
   "execution_count": 6,
   "id": "9f055599-630d-4599-8b2a-12f92a9b829d",
   "metadata": {},
   "outputs": [],
   "source": [
    "from collections import deque"
   ]
  },
  {
   "cell_type": "code",
   "execution_count": 8,
   "id": "9af89c4f-4da4-45b3-a1a4-35a39d7b971a",
   "metadata": {},
   "outputs": [],
   "source": [
    "q = deque()#double ended queue it can be used as stack as well as queue"
   ]
  },
  {
   "cell_type": "code",
   "execution_count": 9,
   "id": "be7496b3-e092-4048-b79b-576051219556",
   "metadata": {},
   "outputs": [],
   "source": [
    "q.appendleft(5)"
   ]
  },
  {
   "cell_type": "code",
   "execution_count": 10,
   "id": "df52a9dd-a456-4379-add0-beeb475cd333",
   "metadata": {},
   "outputs": [],
   "source": [
    "q.appendleft(7)\n",
    "q.appendleft(8)"
   ]
  },
  {
   "cell_type": "code",
   "execution_count": 11,
   "id": "9e00ad67-fd03-49e6-baff-8d212392d61e",
   "metadata": {},
   "outputs": [
    {
     "data": {
      "text/plain": [
       "5"
      ]
     },
     "execution_count": 11,
     "metadata": {},
     "output_type": "execute_result"
    }
   ],
   "source": [
    "q.pop()"
   ]
  },
  {
   "cell_type": "code",
   "execution_count": 12,
   "id": "34e0539d-3736-4725-b7c5-53cd98f099eb",
   "metadata": {},
   "outputs": [],
   "source": [
    "class Queue:\n",
    "    def __init__(self):\n",
    "        self.buffer = deque()\n",
    "    def enqueue(self,val):\n",
    "        self.buffer.appendleft(val)\n",
    "    def dequeue(self):\n",
    "        return self.buffer.pop()\n",
    "    def is_empty(self):\n",
    "        return len(self.buffer) == 0\n",
    "    def size(self):\n",
    "        return len(self.buffer)"
   ]
  },
  {
   "cell_type": "code",
   "execution_count": null,
   "id": "00ef8a63-de2d-42a1-9f38-2362d9d7c594",
   "metadata": {},
   "outputs": [],
   "source": []
  }
 ],
 "metadata": {
  "kernelspec": {
   "display_name": "Python [conda env:base] *",
   "language": "python",
   "name": "conda-base-py"
  },
  "language_info": {
   "codemirror_mode": {
    "name": "ipython",
    "version": 3
   },
   "file_extension": ".py",
   "mimetype": "text/x-python",
   "name": "python",
   "nbconvert_exporter": "python",
   "pygments_lexer": "ipython3",
   "version": "3.13.5"
  }
 },
 "nbformat": 4,
 "nbformat_minor": 5
}
