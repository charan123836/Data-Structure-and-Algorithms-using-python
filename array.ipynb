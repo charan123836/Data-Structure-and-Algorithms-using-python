{
 "cells": [
  {
   "cell_type": "code",
   "execution_count": 4,
   "id": "d39adb32-afed-495d-b99c-1cdaec08e555",
   "metadata": {},
   "outputs": [],
   "source": [
    "def sqnum(number):\n",
    "    sqnumb =[]\n",
    "    for n in number:\n",
    "        sqnumb.append(n*n)\n",
    "    return sqnumb"
   ]
  },
  {
   "cell_type": "code",
   "execution_count": 6,
   "id": "66016aca-29ac-485b-8c9e-2259e0addcce",
   "metadata": {},
   "outputs": [
    {
     "data": {
      "text/plain": [
       "[4, 25, 64, 81]"
      ]
     },
     "execution_count": 6,
     "metadata": {},
     "output_type": "execute_result"
    }
   ],
   "source": [
    "sqnum([2,5,8,9])"
   ]
  },
  {
   "cell_type": "code",
   "execution_count": 1,
   "id": "0735d694-e258-4c0d-999d-9fab34615bc8",
   "metadata": {},
   "outputs": [],
   "source": [
    "stock_prices = [292,312,432,543,654]\n"
   ]
  },
  {
   "cell_type": "code",
   "execution_count": 2,
   "id": "cb7d4ff4-ebe0-44a4-91b2-ab6996505d73",
   "metadata": {},
   "outputs": [
    {
     "data": {
      "text/plain": [
       "292"
      ]
     },
     "execution_count": 2,
     "metadata": {},
     "output_type": "execute_result"
    }
   ],
   "source": [
    "stock_prices[0]"
   ]
  },
  {
   "cell_type": "code",
   "execution_count": 3,
   "id": "9c32588f-74b1-4886-bf7b-d7b8700aec30",
   "metadata": {},
   "outputs": [
    {
     "data": {
      "text/plain": [
       "432"
      ]
     },
     "execution_count": 3,
     "metadata": {},
     "output_type": "execute_result"
    }
   ],
   "source": [
    "stock_prices[2]# to find the element in the index no the big o notation is o(1)"
   ]
  },
  {
   "cell_type": "code",
   "execution_count": 13,
   "id": "a29d131f-38d9-45b0-b435-38c29a5d3b0c",
   "metadata": {},
   "outputs": [
    {
     "name": "stdout",
     "output_type": "stream",
     "text": [
      "2\n"
     ]
    }
   ],
   "source": [
    "for i in range(len(stock_prices)):\n",
    "    if stock_prices[i] == 432:\n",
    "         print(i)\n",
    "        #to find the big o notation of the element to be found it is o(n)"
   ]
  },
  {
   "cell_type": "code",
   "execution_count": 15,
   "id": "27576235-ebb4-4a30-9628-57498ce6f3a8",
   "metadata": {},
   "outputs": [
    {
     "name": "stdout",
     "output_type": "stream",
     "text": [
      "292\n",
      "312\n",
      "432\n",
      "543\n",
      "654\n"
     ]
    }
   ],
   "source": [
    "for i in stock_prices:\n",
    "    print(i)\n",
    "    #array traversal is also o(n)"
   ]
  },
  {
   "cell_type": "code",
   "execution_count": 16,
   "id": "8302bbd6-6847-4d7a-af20-33230e5d63e0",
   "metadata": {},
   "outputs": [],
   "source": [
    "#inserting value at a location\n",
    "stock_prices.insert(1,288)\n",
    "#this also has o(n)"
   ]
  },
  {
   "cell_type": "code",
   "execution_count": 18,
   "id": "4414d966-0668-4932-9b84-556c45a7cafa",
   "metadata": {},
   "outputs": [
    {
     "data": {
      "text/plain": [
       "[292, 288, 312, 432, 543, 654]"
      ]
     },
     "execution_count": 18,
     "metadata": {},
     "output_type": "execute_result"
    }
   ],
   "source": [
    "stock_prices"
   ]
  },
  {
   "cell_type": "code",
   "execution_count": 20,
   "id": "3d9606d7-0816-4c62-ac8a-8917bece7f1a",
   "metadata": {},
   "outputs": [],
   "source": [
    "#deleting elements of array\n",
    "stock_prices.remove(288)\n",
    "#this is also o(n)"
   ]
  },
  {
   "cell_type": "code",
   "execution_count": 1,
   "id": "f816c6de-bdbf-4f70-a077-a8c0a3904916",
   "metadata": {},
   "outputs": [],
   "source": [
    "expense = [2200,2350,2600,2130,2190]"
   ]
  },
  {
   "cell_type": "code",
   "execution_count": 2,
   "id": "87812a25-751f-4929-807a-c19ea2005365",
   "metadata": {},
   "outputs": [
    {
     "data": {
      "text/plain": [
       "150"
      ]
     },
     "execution_count": 2,
     "metadata": {},
     "output_type": "execute_result"
    }
   ],
   "source": [
    "expense[1]-expense[0]"
   ]
  },
  {
   "cell_type": "code",
   "execution_count": 6,
   "id": "cd608b32-879a-4118-b2e2-369eb8f34604",
   "metadata": {},
   "outputs": [
    {
     "name": "stdout",
     "output_type": "stream",
     "text": [
      "7150\n"
     ]
    }
   ],
   "source": [
    "tot = 0\n",
    "for i in range(len(expense)):\n",
    "    if i<3:\n",
    "        tot += expense[i]\n",
    "print(tot)"
   ]
  },
  {
   "cell_type": "code",
   "execution_count": 9,
   "id": "70516a37-49b1-45a0-a812-5d9780be0be4",
   "metadata": {},
   "outputs": [
    {
     "name": "stdout",
     "output_type": "stream",
     "text": [
      "no\n"
     ]
    }
   ],
   "source": [
    "for i in expense:\n",
    "    if i == 2000:\n",
    "        print('yes')\n",
    "else:\n",
    "    print('no')"
   ]
  },
  {
   "cell_type": "code",
   "execution_count": 10,
   "id": "1451922e-a344-45de-ab7a-06224054071e",
   "metadata": {},
   "outputs": [],
   "source": [
    "expense.append(1980)"
   ]
  },
  {
   "cell_type": "code",
   "execution_count": 11,
   "id": "8b3dcac6-1318-4a63-ab11-0828db636b2f",
   "metadata": {},
   "outputs": [
    {
     "data": {
      "text/plain": [
       "[2200, 2350, 2600, 2130, 2190, 1980]"
      ]
     },
     "execution_count": 11,
     "metadata": {},
     "output_type": "execute_result"
    }
   ],
   "source": [
    "expense"
   ]
  },
  {
   "cell_type": "code",
   "execution_count": 12,
   "id": "60896a88-710f-464d-b587-1ebb91aa88f1",
   "metadata": {},
   "outputs": [],
   "source": [
    "expense[3] = expense[3]-200"
   ]
  },
  {
   "cell_type": "code",
   "execution_count": 24,
   "id": "b82536ee-bdce-4266-bf6d-2a0c7d75f3bd",
   "metadata": {},
   "outputs": [],
   "source": [
    "heros = ['spider man','thor','hulk','iron man','captain america']"
   ]
  },
  {
   "cell_type": "code",
   "execution_count": 25,
   "id": "d39b3513-0a75-4d18-809e-943415af625b",
   "metadata": {},
   "outputs": [
    {
     "data": {
      "text/plain": [
       "5"
      ]
     },
     "execution_count": 25,
     "metadata": {},
     "output_type": "execute_result"
    }
   ],
   "source": [
    "len(heros)"
   ]
  },
  {
   "cell_type": "code",
   "execution_count": 26,
   "id": "ded1c6ea-1c3d-4dc9-af99-89bf2091290f",
   "metadata": {},
   "outputs": [],
   "source": [
    "heros.append('black panther')"
   ]
  },
  {
   "cell_type": "code",
   "execution_count": 27,
   "id": "74b28b4e-9c72-4e76-9aab-e9b2007d6048",
   "metadata": {},
   "outputs": [],
   "source": [
    "heros.remove('black panther')"
   ]
  },
  {
   "cell_type": "code",
   "execution_count": 28,
   "id": "17862687-3a9b-478d-9f35-469d884d0744",
   "metadata": {},
   "outputs": [],
   "source": [
    "heros.insert(3,'black panther')"
   ]
  },
  {
   "cell_type": "code",
   "execution_count": 29,
   "id": "ce05d8c1-7ae4-42ff-bac6-6fbc68844bf5",
   "metadata": {},
   "outputs": [],
   "source": [
    "heros[1:3] = ['doctor strange']"
   ]
  },
  {
   "cell_type": "code",
   "execution_count": 30,
   "id": "ebc303c6-4e0a-405c-b278-18d5f30e1e81",
   "metadata": {},
   "outputs": [],
   "source": [
    "heros.sort()"
   ]
  },
  {
   "cell_type": "code",
   "execution_count": 31,
   "id": "8c4520e7-ef77-42a4-8523-a9bf69f8b798",
   "metadata": {},
   "outputs": [
    {
     "name": "stdout",
     "output_type": "stream",
     "text": [
      "['black panther', 'captain america', 'doctor strange', 'iron man', 'spider man']\n"
     ]
    }
   ],
   "source": [
    "print(heros)"
   ]
  },
  {
   "cell_type": "code",
   "execution_count": 35,
   "id": "107e6473-7eab-4e2d-8044-dac293856d49",
   "metadata": {},
   "outputs": [
    {
     "name": "stdin",
     "output_type": "stream",
     "text": [
      "enter the max number:  20\n"
     ]
    },
    {
     "name": "stdout",
     "output_type": "stream",
     "text": [
      "[1, 3, 5, 7, 9, 11, 13, 15, 17, 19]\n"
     ]
    }
   ],
   "source": [
    "x = int(input('enter the max number: '))\n",
    "lis = []\n",
    "for i in range(x+1):\n",
    "    if i%2 != 0:\n",
    "        lis.append(i)\n",
    "print(lis)"
   ]
  },
  {
   "cell_type": "code",
   "execution_count": null,
   "id": "d176f424-03bf-4423-b251-1f1961a77981",
   "metadata": {},
   "outputs": [],
   "source": []
  }
 ],
 "metadata": {
  "kernelspec": {
   "display_name": "Python [conda env:base] *",
   "language": "python",
   "name": "conda-base-py"
  },
  "language_info": {
   "codemirror_mode": {
    "name": "ipython",
    "version": 3
   },
   "file_extension": ".py",
   "mimetype": "text/x-python",
   "name": "python",
   "nbconvert_exporter": "python",
   "pygments_lexer": "ipython3",
   "version": "3.13.5"
  }
 },
 "nbformat": 4,
 "nbformat_minor": 5
}
