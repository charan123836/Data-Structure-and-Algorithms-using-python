{
 "cells": [
  {
   "cell_type": "code",
   "execution_count": 2,
   "id": "f269630f-f9c6-440d-8143-da521a38f144",
   "metadata": {},
   "outputs": [],
   "source": [
    "def gethash(key):\n",
    "    h = 0 \n",
    "    for char in key:\n",
    "        h += ord(char)#ord gives ASCII value of the character\n",
    "    return h%100"
   ]
  },
  {
   "cell_type": "code",
   "execution_count": 3,
   "id": "731b72af-0716-40ea-9e86-993cd4c86783",
   "metadata": {},
   "outputs": [
    {
     "data": {
      "text/plain": [
       "97"
      ]
     },
     "execution_count": 3,
     "metadata": {},
     "output_type": "execute_result"
    }
   ],
   "source": [
    "ord('a')"
   ]
  },
  {
   "cell_type": "code",
   "execution_count": 12,
   "id": "148ffe5a-a8fe-42b7-b0cb-3155e6be56c9",
   "metadata": {},
   "outputs": [],
   "source": [
    "class Hash_Table :\n",
    "    def __init__(self):\n",
    "        self.max = 100\n",
    "        self.arr = [[] for i in range(self.max)]\n",
    "    def get_hash(self,key):\n",
    "        h = 0\n",
    "        for char in key:\n",
    "            h += ord(char)\n",
    "        return h%self.max\n",
    "    def __setitem__(self,key,value):\n",
    "        h = self.get_hash(key)\n",
    "        for idx, element in enumerate(self.arr[h]):\n",
    "            \n",
    "\n",
    "            \n",
    "    def __getitem__(self, key):\n",
    "        h = self.get_hash(key)\n",
    "        return self.arr[h]\n",
    "    def __delitem__(self,key):\n",
    "        h = self.get_hash(key)\n",
    "        self.arr[h] = None"
   ]
  },
  {
   "cell_type": "code",
   "execution_count": 13,
   "id": "1e52c4c4-c1c0-414d-98cc-1fd5e5b7d68e",
   "metadata": {},
   "outputs": [],
   "source": [
    "t= Hash_Table()"
   ]
  },
  {
   "cell_type": "code",
   "execution_count": 15,
   "id": "b259dff0-ee41-42c4-9a04-e5d1aa0cf8b5",
   "metadata": {},
   "outputs": [],
   "source": [
    "t['march 6'] = 420"
   ]
  },
  {
   "cell_type": "code",
   "execution_count": 16,
   "id": "ed2e7623-2715-4e30-aa41-5f015d01d4ac",
   "metadata": {},
   "outputs": [
    {
     "data": {
      "text/plain": [
       "420"
      ]
     },
     "execution_count": 16,
     "metadata": {},
     "output_type": "execute_result"
    }
   ],
   "source": [
    "t['march 6']"
   ]
  }
 ],
 "metadata": {
  "kernelspec": {
   "display_name": "Python [conda env:base] *",
   "language": "python",
   "name": "conda-base-py"
  },
  "language_info": {
   "codemirror_mode": {
    "name": "ipython",
    "version": 3
   },
   "file_extension": ".py",
   "mimetype": "text/x-python",
   "name": "python",
   "nbconvert_exporter": "python",
   "pygments_lexer": "ipython3",
   "version": "3.13.5"
  }
 },
 "nbformat": 4,
 "nbformat_minor": 5
}
