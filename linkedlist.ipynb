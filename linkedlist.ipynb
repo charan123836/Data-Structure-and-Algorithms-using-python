{
 "cells": [
  {
   "cell_type": "code",
   "execution_count": null,
   "id": "bf0ac12c-1587-4762-ba6b-510339674891",
   "metadata": {},
   "outputs": [],
   "source": [
    "class Node:\n",
    "    def __init__(self,data = None, next= None):\n",
    "        self.data = data\n",
    "        self.next = next\n",
    "class linkedlist:\n",
    "    def __init__(self):\n",
    "        self.head = None\n",
    "    def insert_at_beg(self,data):\n",
    "        node = Node(data,self.head)\n",
    "        self.head = node\n",
    "    def insert_at_end(self,data):\n",
    "        if self.head is None:\n",
    "            self.head = Node(data,None)\n",
    "            return\n",
    "        itr = self.head\n",
    "        while itr.next:\n",
    "            itr = itr.next\n",
    "        itr.next = Node(data,None)\n",
    "    def insert_values(self,data_set):\n",
    "        self.head = None\n",
    "        for data in data_set:\n",
    "            self.insert_at_end(data)\n",
    "    def get_length(self):\n",
    "        count = 0\n",
    "        itr = self.head\n",
    "        while itr:\n",
    "            count+=1\n",
    "            itr = itr.next\n",
    "        return count\n",
    "        \n",
    "    def remove_index(self,index):\n",
    "        if index<0 or index>= self.get_length():\n",
    "            raise Exception(\"invalid index\")\n",
    "        if index == 0:\n",
    "            self.head = self.head.next\n",
    "            return\n",
    "        count = 0 \n",
    "        itr = self.head\n",
    "        while itr:\n",
    "            if count == index-1:\n",
    "                itr.next = itr.next.next\n",
    "                break\n",
    "            itr = itr.next\n",
    "            count+=1\n",
    "\n",
    "    def insert_at(self,index,data):\n",
    "        if index<0 or index>= self.get_length():\n",
    "            raise Exception(\"invalid index\")\n",
    "        if index == 0:\n",
    "            self.insert_at_beg(data)\n",
    "            return\n",
    "        count = 0\n",
    "        itr = self.head\n",
    "        while itr:\n",
    "            if count == index - 1:\n",
    "                itr.next = Node(data,itr.next)\n",
    "                break\n",
    "            itr = itr.next\n",
    "            count+=1\n",
    "            \n",
    "    def insert_after(self,data_after,data):\n",
    "        if self.head is None:\n",
    "            return \n",
    "        if self.head.data == data_after:\n",
    "            self.head.next = Node(data,self.head.next)\n",
    "            return\n",
    "        itr = self.head\n",
    "        while itr:\n",
    "            if itr.data  == data_after:\n",
    "                itr.next = Node(data,itr.next)\n",
    "                break\n",
    "            itr = itr.next\n",
    "\n",
    "            \n",
    "    def remove_val(self,data):\n",
    "        if self.head is None:\n",
    "            return \n",
    "        if self.head.data == data:\n",
    "            self.head = self.head.next\n",
    "            return\n",
    "        itr = self.head\n",
    "        while itr.next:\n",
    "            if itr.next.data == data:\n",
    "                itr.next = itr.next.next\n",
    "                break\n",
    "            itr = itr.next  \n",
    "    \n",
    "    def print(self):\n",
    "        if self.head is None:\n",
    "            print('linked list is empty')\n",
    "            return\n",
    "        itr = self.head\n",
    "        llstr =''\n",
    "        \n",
    "        while itr:\n",
    "            llstr += str(itr.data)+ '-->'\n",
    "            itr = itr.next\n",
    "        print(llstr)\n",
    "if __name__=='__main__':\n",
    "    ll = linkedlist()\n",
    "    ll.insert_values(['mango','banana','orange'])\n",
    "    ll.insert_at(1,'fig')\n",
    "    ll.insert_after('mango','apple')\n",
    "    ll.remove_val('orange')\n",
    "    ll.print()"
   ]
  },
  {
   "cell_type": "code",
   "execution_count": 2,
   "id": "cb951679-2b08-4cc3-8204-7d3854cd41f2",
   "metadata": {},
   "outputs": [
    {
     "name": "stdout",
     "output_type": "stream",
     "text": [
      "59-->35-->45-->67-->\n"
     ]
    }
   ],
   "source": [
    "#double linked list\n",
    "class Node:\n",
    "    def __init__(self, data = None, next = None, prev = None):\n",
    "        self.data = data\n",
    "        self.next = next\n",
    "        self.prev = prev\n",
    "class Double_linkedlist:\n",
    "    def __init__(self):\n",
    "        self.head = None\n",
    "    def insert_at_beg(self,data):\n",
    "        if self.head is None:\n",
    "            node = Node(data,self.head,None)\n",
    "            self.head = node\n",
    "        else:\n",
    "            node = Node(data,self.head,None)\n",
    "            self.head.prev = node\n",
    "            self.head = node\n",
    "            \n",
    "    def insert_at_end(self, data):\n",
    "        if self.head is None:\n",
    "            self.head = Node(data,None,None)\n",
    "            return\n",
    "        itr = self.head\n",
    "        while itr.next:\n",
    "            itr = itr.next\n",
    "        itr.next = Node(data,None, itr)\n",
    "    def print(self):\n",
    "        if self.head is None:\n",
    "            print('linked list is empty')\n",
    "            return\n",
    "        itr = self.head\n",
    "        llstr = ''\n",
    "        while itr:\n",
    "            llstr += str(itr.data) + '-->'\n",
    "            itr = itr.next\n",
    "        print(llstr)\n",
    "if __name__ == '__main__':\n",
    "    ll = Double_linkedlist()\n",
    "    ll.insert_at_end(59)\n",
    "    ll.insert_at_end(35)\n",
    "    ll.insert_at_end(45)\n",
    "    ll.insert_at_end(67)\n",
    "    ll.print()\n",
    "            "
   ]
  },
  {
   "cell_type": "code",
   "execution_count": 3,
   "id": "eff0c00d-430d-4683-88da-3fffec2ee524",
   "metadata": {},
   "outputs": [],
   "source": [
    "cha = [1,3,4,5]\n",
    "ra = [34,54,23]"
   ]
  },
  {
   "cell_type": "code",
   "execution_count": 16,
   "id": "9a393d35-e6ae-40b7-b65e-aba2f22542f1",
   "metadata": {},
   "outputs": [],
   "source": [
    "chara = ra+cha"
   ]
  },
  {
   "cell_type": "code",
   "execution_count": 20,
   "id": "b59ebcc3-bed0-4dd5-9593-4a282b7b9418",
   "metadata": {},
   "outputs": [],
   "source": [
    "chara.sort()"
   ]
  },
  {
   "cell_type": "code",
   "execution_count": 21,
   "id": "cf58706b-54d6-4e42-b25c-cdc35dd90b6a",
   "metadata": {},
   "outputs": [
    {
     "data": {
      "text/plain": [
       "[1, 3, 4, 5, 23, 34, 54]"
      ]
     },
     "execution_count": 21,
     "metadata": {},
     "output_type": "execute_result"
    }
   ],
   "source": [
    "chara"
   ]
  },
  {
   "cell_type": "code",
   "execution_count": 31,
   "id": "cf2334af-708c-4620-a46f-82f0c50e09a4",
   "metadata": {},
   "outputs": [],
   "source": [
    "def findMedianSortedArrays(nums1, nums2):\n",
    "        \"\"\"\n",
    "        :type nums1: List[int]\n",
    "        :type nums2: List[int]\n",
    "        :rtype: float\n",
    "        \"\"\"\n",
    "        merged_array = nums1+nums2\n",
    "        merged_array.sort()\n",
    "        if len(merged_array) %2 == 0:\n",
    "            return merged_array[(int(len(merged_array)/2))-1]\n",
    "        else :\n",
    "            return merged_array[int(((len(merged_array)+1)/2)-1)]"
   ]
  },
  {
   "cell_type": "code",
   "execution_count": 32,
   "id": "53713701-e5e1-4b93-93b6-aef097ea8cc0",
   "metadata": {},
   "outputs": [
    {
     "data": {
      "text/plain": [
       "2"
      ]
     },
     "execution_count": 32,
     "metadata": {},
     "output_type": "execute_result"
    }
   ],
   "source": [
    "findMedianSortedArrays([1,3],[2])"
   ]
  },
  {
   "cell_type": "code",
   "execution_count": 26,
   "id": "50723f05-b0af-42cb-b348-d2b73e7aab64",
   "metadata": {},
   "outputs": [],
   "source": [
    "me = [1,2,3]"
   ]
  },
  {
   "cell_type": "code",
   "execution_count": 27,
   "id": "f188da3c-b553-4751-8001-eab154bd5664",
   "metadata": {},
   "outputs": [
    {
     "data": {
      "text/plain": [
       "3"
      ]
     },
     "execution_count": 27,
     "metadata": {},
     "output_type": "execute_result"
    }
   ],
   "source": [
    "len(me)"
   ]
  },
  {
   "cell_type": "code",
   "execution_count": 28,
   "id": "257dd172-fdc2-4166-93cf-92d6b8f443e4",
   "metadata": {},
   "outputs": [
    {
     "data": {
      "text/plain": [
       "2.0"
      ]
     },
     "execution_count": 28,
     "metadata": {},
     "output_type": "execute_result"
    }
   ],
   "source": [
    "(len(me)+1)/2"
   ]
  },
  {
   "cell_type": "code",
   "execution_count": null,
   "id": "8fada684-7c87-4906-b9e2-03b5e18087d5",
   "metadata": {},
   "outputs": [],
   "source": []
  }
 ],
 "metadata": {
  "kernelspec": {
   "display_name": "Python [conda env:base] *",
   "language": "python",
   "name": "conda-base-py"
  },
  "language_info": {
   "codemirror_mode": {
    "name": "ipython",
    "version": 3
   },
   "file_extension": ".py",
   "mimetype": "text/x-python",
   "name": "python",
   "nbconvert_exporter": "python",
   "pygments_lexer": "ipython3",
   "version": "3.13.5"
  }
 },
 "nbformat": 4,
 "nbformat_minor": 5
}
