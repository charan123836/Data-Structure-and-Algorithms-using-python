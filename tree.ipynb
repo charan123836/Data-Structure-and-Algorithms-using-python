{
 "cells": [
  {
   "cell_type": "code",
   "execution_count": 14,
   "id": "e4faa796-4fb5-4200-8ef4-62011e83b875",
   "metadata": {},
   "outputs": [],
   "source": [
    "#tree is a recursive data strucuture\n",
    "class TreeNode:\n",
    "    def __init__(self,data):\n",
    "        self.data = data\n",
    "        self.children = []\n",
    "        self.parent = None\n",
    "    def add_node(self,child):\n",
    "        child.parent = self\n",
    "        self.children.append(child)\n",
    "    def get_lvl(self):\n",
    "        lvl = 0\n",
    "        p = self.parent\n",
    "        while p:\n",
    "            lvl +=1\n",
    "            p = p.parent\n",
    "        return lvl\n",
    "    def print_tree(self):\n",
    "        spaces = ' ' *self.get_lvl()*3\n",
    "        prefix = spaces +'|__' if self.parent else \"\"\n",
    "        print(prefix + self.data)\n",
    "        for child in self.children:\n",
    "            child.print_tree()\n",
    "        "
   ]
  },
  {
   "cell_type": "code",
   "execution_count": 15,
   "id": "07d1f42e-0961-4419-98b8-e3b0f9f8a303",
   "metadata": {},
   "outputs": [],
   "source": [
    "def build_tree():\n",
    "    root = TreeNode('champ')\n",
    "    foot = TreeNode('cristiano')\n",
    "    foot.add_node(TreeNode('messi'))\n",
    "    foot.add_node(TreeNode('lioniel'))\n",
    "    foot.add_node(TreeNode('Ronaldo'))\n",
    "    root.add_node(foot)\n",
    "    root.print_tree()\n",
    "\n",
    "    "
   ]
  },
  {
   "cell_type": "code",
   "execution_count": 16,
   "id": "39cba356-cf20-4e50-8af2-e0950e966f6a",
   "metadata": {},
   "outputs": [
    {
     "name": "stdout",
     "output_type": "stream",
     "text": [
      "champ\n",
      "   |__cristiano\n",
      "      |__messi\n",
      "      |__lioniel\n",
      "      |__Ronaldo\n"
     ]
    }
   ],
   "source": [
    "build_tree()"
   ]
  },
  {
   "cell_type": "code",
   "execution_count": null,
   "id": "34ae87e0-72e9-41dd-8ae6-f85e90898317",
   "metadata": {},
   "outputs": [],
   "source": []
  }
 ],
 "metadata": {
  "kernelspec": {
   "display_name": "Python [conda env:base] *",
   "language": "python",
   "name": "conda-base-py"
  },
  "language_info": {
   "codemirror_mode": {
    "name": "ipython",
    "version": 3
   },
   "file_extension": ".py",
   "mimetype": "text/x-python",
   "name": "python",
   "nbconvert_exporter": "python",
   "pygments_lexer": "ipython3",
   "version": "3.13.5"
  }
 },
 "nbformat": 4,
 "nbformat_minor": 5
}
